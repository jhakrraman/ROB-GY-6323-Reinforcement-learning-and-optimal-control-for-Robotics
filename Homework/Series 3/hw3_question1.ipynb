{
 "cells": [
  {
   "cell_type": "code",
   "execution_count": 3,
   "metadata": {},
   "outputs": [],
   "source": [
    "import numpy as np\n",
    "import pandas as pd"
   ]
  },
  {
   "cell_type": "markdown",
   "metadata": {},
   "source": [
    "**a. Deterministic Dynamic Programming Solution**"
   ]
  },
  {
   "cell_type": "code",
   "execution_count": 8,
   "metadata": {},
   "outputs": [
    {
     "name": "stdout",
     "output_type": "stream",
     "text": [
      "    Time  State  Optimal Control  Cost\n",
      "0      0     -2             -1.0  10.0\n",
      "1      0     -1             -1.0   5.0\n",
      "2      0      0             -1.0   2.0\n",
      "3      0      1              0.0   3.0\n",
      "4      0      2              1.0   6.0\n",
      "5      1     -2              0.0   8.0\n",
      "6      1     -1             -1.0   5.0\n",
      "7      1      0             -1.0   1.0\n",
      "8      1      1              0.0   2.0\n",
      "9      1      2              1.0   5.0\n",
      "10     2     -2              0.0   4.0\n",
      "11     2     -1              0.0   2.0\n",
      "12     2      0              0.0   0.0\n",
      "13     2      1              0.0   2.0\n",
      "14     2      2              0.0   4.0\n"
     ]
    }
   ],
   "source": [
    "# Parameter Initialization\n",
    "x_values = np.array([-2, -1, 0, 1, 2])\n",
    "u_values = np.array([-1, 0, 1])\n",
    "T = 3\n",
    "\n",
    "# Initialization of cost and policy arrays\n",
    "costs = np.zeros((T+1, len(x_values)))\n",
    "policy = np.zeros((T, len(x_values)))\n",
    "\n",
    "# Dynamic programming algorithm\n",
    "for t in range(T-1, -1, -1):\n",
    "    for i, x in enumerate(x_values):\n",
    "        min_cost = float('inf')\n",
    "        best_u = None\n",
    "        \n",
    "        for u in u_values:\n",
    "            next_x = -x + 1 + u if -2 <= (-x + 1 + u) <= 2 else -2\n",
    "            \n",
    "            if next_x in x_values:\n",
    "                next_idx = np.where(x_values == next_x)[0][0]\n",
    "                stage_cost = 2 * abs(x) + abs(u)\n",
    "                total_cost = stage_cost + (costs[t+1][next_idx] if t < T-1 else 0)\n",
    "                \n",
    "                if total_cost < min_cost:\n",
    "                    min_cost = total_cost\n",
    "                    best_u = u\n",
    "                    \n",
    "        costs[t][i] = min_cost\n",
    "        policy[t][i] = best_u\n",
    "\n",
    "results = []\n",
    "for t in range(T):\n",
    "    for i, x in enumerate(x_values):\n",
    "        results.append((t, x, policy[t][i], costs[t][i]))\n",
    "\n",
    "# DataFrame to display results\n",
    "df = pd.DataFrame(results, columns=['Time', 'State', 'Optimal Control', 'Cost'])\n",
    "print(df)"
   ]
  },
  {
   "cell_type": "markdown",
   "metadata": {},
   "source": [
    "**b. Sequence of Control Actions and Optimal Costs**\n"
   ]
  },
  {
   "cell_type": "code",
   "execution_count": 9,
   "metadata": {},
   "outputs": [
    {
     "name": "stdout",
     "output_type": "stream",
     "text": [
      "x0 = 0:\n",
      "States: [0, 0.0, 0.0, 1.0]\n",
      "Actions: [-1.0, -1.0, 0.0]\n",
      "Total cost: 4.0\n",
      "\n",
      "x0 = -2:\n",
      "States: [-2, 2.0, 0.0, 1.0]\n",
      "Actions: [-1.0, 1.0, 0.0]\n",
      "Total cost: 8.0\n",
      "\n",
      "x0 = 2:\n",
      "States: [2, 0.0, 0.0, 1.0]\n",
      "Actions: [1.0, -1.0, 0.0]\n",
      "Total cost: 4.0\n",
      "\n"
     ]
    }
   ],
   "source": [
    "#Initialization of States\n",
    "initial_states = [0, -2, 2]\n",
    "\n",
    "# Deterministic Dynamic Programming for the sequence of Control Actions and Optimal Costs\n",
    "for x0 in initial_states:\n",
    "    x = x0\n",
    "    u_seq = []\n",
    "    x_seq = [x]\n",
    "    cost = 0\n",
    "    \n",
    "    for t in range(3):\n",
    "        u = float(df['Optimal Control'][df['State'] == x].values[t])\n",
    "        u_seq.append(u)\n",
    "        \n",
    "        next_x = -x + 1 + u if -2 <= -x + 1 + u <= 2 else -2\n",
    "        x = next_x\n",
    "        x_seq.append(x)\n",
    "        \n",
    "        stage_cost = 2 * abs(x) + abs(u)\n",
    "        cost += stage_cost\n",
    "    \n",
    "    print(f\"x0 = {x0}:\")\n",
    "    print(f\"States: {x_seq}\")\n",
    "    print(f\"Actions: {u_seq}\")\n",
    "    print(f\"Total cost: {cost}\\n\")"
   ]
  },
  {
   "cell_type": "markdown",
   "metadata": {},
   "source": [
    "**c. Stochastic Dynamic Programming Solution**"
   ]
  },
  {
   "cell_type": "code",
   "execution_count": 11,
   "metadata": {},
   "outputs": [
    {
     "name": "stdout",
     "output_type": "stream",
     "text": [
      "    Time  State  Optimal Control    Cost\n",
      "0      0     -2             -1.0  10.600\n",
      "1      0     -1             -1.0   5.952\n",
      "2      0      0              0.0   2.952\n",
      "3      0      1              0.0   4.880\n",
      "4      0      2              1.0   7.880\n",
      "5      1     -2             -1.0   9.200\n",
      "6      1     -1             -1.0   4.680\n",
      "7      1      0              0.0   1.680\n",
      "8      1      1              0.0   3.800\n",
      "9      1      2              1.0   6.800\n",
      "10     2     -2             -1.0   7.800\n",
      "11     2     -1             -1.0   3.600\n",
      "12     2      0              0.0   0.600\n",
      "13     2      1              0.0   2.400\n",
      "14     2      2              1.0   5.400\n"
     ]
    }
   ],
   "source": [
    "# Parameter Initialization\n",
    "x_values = np.array([-2, -1, 0, 1, 2])\n",
    "u_values = np.array([-1, 0, 1])\n",
    "T = 3\n",
    "prob_w = [0.4, 0.6]\n",
    "\n",
    "# Initialization of cost and policy arrays\n",
    "costs = np.zeros((T+1, len(x_values)))\n",
    "policy = np.zeros((T, len(x_values)))\n",
    "\n",
    "# Dynamic programming algorithm with expectations\n",
    "for t in range(T-1, -1, -1):\n",
    "    for i, x in enumerate(x_values):\n",
    "        min_cost = float('inf')\n",
    "        best_u = None\n",
    "        \n",
    "        for u in u_values:\n",
    "            cost = 0\n",
    "            for w_idx, w in enumerate([0, 1]):\n",
    "                next_x = -x + w + u if -2 <= (-x + w + u) <= 2 else -2\n",
    "                next_idx = np.where(x_values == next_x)[0][0]\n",
    "                \n",
    "                future_cost = costs[t+1][next_idx] if t < T-1 else next_x**2\n",
    "                stage_cost = 2 * abs(x) + abs(u) + future_cost\n",
    "                cost += prob_w[w_idx] * stage_cost\n",
    "            \n",
    "            if cost < min_cost:\n",
    "                min_cost = cost\n",
    "                best_u = u\n",
    "                \n",
    "        costs[t][i] = min_cost\n",
    "        policy[t][i] = best_u\n",
    "\n",
    "# Results for probabilistic model\n",
    "results = []\n",
    "for t in range(T):\n",
    "    for i, x in enumerate(x_values):\n",
    "        results.append((t, x, policy[t][i], costs[t][i]))\n",
    "\n",
    "# DataFrame to display results of probabilistic model\n",
    "df = pd.DataFrame(results, columns=['Time', 'State', 'Optimal Control', 'Cost'])\n",
    "print(df)"
   ]
  }
 ],
 "metadata": {
  "kernelspec": {
   "display_name": "Python 3",
   "language": "python",
   "name": "python3"
  },
  "language_info": {
   "codemirror_mode": {
    "name": "ipython",
    "version": 3
   },
   "file_extension": ".py",
   "mimetype": "text/x-python",
   "name": "python",
   "nbconvert_exporter": "python",
   "pygments_lexer": "ipython3",
   "version": "3.9.6"
  }
 },
 "nbformat": 4,
 "nbformat_minor": 2
}
